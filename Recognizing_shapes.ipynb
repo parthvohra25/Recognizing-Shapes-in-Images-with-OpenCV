{
 "cells": [
  {
   "cell_type": "markdown",
   "metadata": {},
   "source": [
    "Recognizing Shapes in Objects with OpenCV\n",
    "=========================================\n"
   ]
  },
  {
   "cell_type": "markdown",
   "metadata": {},
   "source": [
    "Import libraries."
   ]
  },
  {
   "cell_type": "code",
   "execution_count": 2,
   "metadata": {},
   "outputs": [],
   "source": [
    "import cv2\n",
    "import numpy as np\n",
    "import os"
   ]
  },
  {
   "cell_type": "markdown",
   "metadata": {},
   "source": [
    "Image filenames."
   ]
  },
  {
   "cell_type": "code",
   "execution_count": 3,
   "metadata": {},
   "outputs": [],
   "source": [
    "files = (\n",
    "    'subway.jpg',\n",
    "    'breakfast.jpg',\n",
    "    'dinner.jpg',\n",
    "    'building.jpg',\n",
    ")\n",
    "f = os.path.join('images', files[0])"
   ]
  },
  {
   "cell_type": "markdown",
   "metadata": {},
   "source": [
    "Define a function for viewing images."
   ]
  },
  {
   "cell_type": "code",
   "execution_count": 4,
   "metadata": {},
   "outputs": [],
   "source": [
    "def view_image(i):\n",
    "    cv2.imshow('view',i) #to display , first argument is title for the wimdow\n",
    "    cv2.waitKey(0) # once the window is opened we will wait for any amount of time\n",
    "    cv2.destroyAllWindows() # close the window"
   ]
  },
  {
   "cell_type": "markdown",
   "metadata": {},
   "source": [
    "Read an image from file."
   ]
  },
  {
   "cell_type": "code",
   "execution_count": 5,
   "metadata": {},
   "outputs": [],
   "source": [
    "i=cv2.imread(f) # variable i to point o the image\n",
    "view_image(i)#function to display"
   ]
  },
  {
   "cell_type": "markdown",
   "metadata": {},
   "source": [
    "Inspect image contents"
   ]
  },
  {
   "cell_type": "code",
   "execution_count": 6,
   "metadata": {},
   "outputs": [
    {
     "name": "stdout",
     "output_type": "stream",
     "text": [
      "(640, 427, 3)\n",
      "[22 24  4]\n"
     ]
    }
   ],
   "source": [
    "#open cv stores an image as the numpy array in this case it is three dimensional aaray.\n",
    "# We can see how large is the array with shape attribute\n",
    "print(i.shape)\n",
    "print(i[0,0,:]) #top left pixel bgr"
   ]
  },
  {
   "cell_type": "markdown",
   "metadata": {},
   "source": [
    "Gray-scale"
   ]
  },
  {
   "cell_type": "code",
   "execution_count": 7,
   "metadata": {},
   "outputs": [
    {
     "name": "stdout",
     "output_type": "stream",
     "text": [
      "(640, 427)\n",
      "18\n"
     ]
    }
   ],
   "source": [
    "i_gray=cv2.cvtColor(i,cv2.COLOR_BGR2GRAY) #original file,constant that defines convergen we want\n",
    "print(i_gray.shape)# size of the image\n",
    "print(i_gray[0,0]) #top-left pixel\n",
    "view_image(i_gray) # display image\n",
    "# now yhe image is stored in 2d array and each x-y pixel coordinate is one value for brightness now and top left pixelis value of 18 which is dark"
   ]
  },
  {
   "cell_type": "markdown",
   "metadata": {},
   "source": [
    "X gradient"
   ]
  },
  {
   "cell_type": "code",
   "execution_count": 9,
   "metadata": {},
   "outputs": [],
   "source": [
    "sobelx=cv2.Sobel(i_gray,cv2.CV_64F,1,0) # image,constant which defines which datatype to use, two integers define the direction in which gradient should be taken \n",
    "abs_sobelx=np.absolute(sobelx)\n",
    "view_image(abs_sobelx/np.max(abs_sobelx)) #range normalize our image in 0-1"
   ]
  },
  {
   "cell_type": "markdown",
   "metadata": {},
   "source": [
    "Y gradient"
   ]
  },
  {
   "cell_type": "code",
   "execution_count": 11,
   "metadata": {},
   "outputs": [],
   "source": [
    "sobely=cv2.Sobel(i_gray,cv2.CV_64F,0,1) # image,constant which defines which datatype to use, two integers define the direction in which gradient should be taken \n",
    "abs_sobely=np.absolute(sobely)\n",
    "view_image(abs_sobely/np.max(abs_sobely)) #range normalize our image in 0-1"
   ]
  },
  {
   "cell_type": "markdown",
   "metadata": {},
   "source": [
    "Magnitude of gradient vector"
   ]
  },
  {
   "cell_type": "code",
   "execution_count": 13,
   "metadata": {},
   "outputs": [],
   "source": [
    "magnitude=np.sqrt(sobelx**2+sobely**2)\n",
    "view_image(magnitude/np.max(magnitude))"
   ]
  },
  {
   "cell_type": "markdown",
   "metadata": {},
   "source": [
    "Canny edge detection"
   ]
  },
  {
   "cell_type": "code",
   "execution_count": 15,
   "metadata": {},
   "outputs": [],
   "source": [
    "edges=cv2.Canny(i_gray,200,250) #image, two thresholds\n",
    "view_image(edges)"
   ]
  },
  {
   "cell_type": "markdown",
   "metadata": {},
   "source": [
    "Theory: Hough transforms\n",
    "\n",
    "![title](images2/line_diagram.png)\n",
    "\n",
    "![title](images2/accumulator1.png)\n",
    "\n",
    "![title](images2/edge_pixel.png)\n",
    "\n",
    "![title](images2/accumulator2.png)\n",
    "\n",
    "![title](images2/accumulator3.png)\n"
   ]
  },
  {
   "cell_type": "markdown",
   "metadata": {},
   "source": [
    "Hough transform for lines"
   ]
  },
  {
   "cell_type": "code",
   "execution_count": 17,
   "metadata": {},
   "outputs": [],
   "source": [
    "lines=cv2.HoughLinesP(\n",
    "    edges,\n",
    "    rho=1,\n",
    "    theta=1. *np.pi/180.0,\n",
    "    threshold=20,\n",
    "    minLineLength=25,\n",
    "    maxLineGap=5,)\n",
    "\n",
    "i_lines=i.copy()\n",
    "for l in lines:\n",
    "    x1,y1,x2,y2=l[0]\n",
    "    cv2.line(i_lines,(x1,y1),(x2,y2),(0,0,255),thickness=3)\n",
    "view_image(i_lines)"
   ]
  },
  {
   "cell_type": "markdown",
   "metadata": {},
   "source": [
    "Hough transform for circles"
   ]
  },
  {
   "cell_type": "code",
   "execution_count": 38,
   "metadata": {},
   "outputs": [
    {
     "ename": "error",
     "evalue": "OpenCV(4.7.0) :-1: error: (-5:Bad argument) in function 'circle'\n> Overload resolution failed:\n>  - Can't parse 'center'. Sequence item with index 0 has a wrong type\n>  - Can't parse 'center'. Sequence item with index 0 has a wrong type\n",
     "output_type": "error",
     "traceback": [
      "\u001b[1;31m---------------------------------------------------------------------------\u001b[0m",
      "\u001b[1;31merror\u001b[0m                                     Traceback (most recent call last)",
      "\u001b[1;32mc:\\Users\\parth\\Downloads\\Recognizing_shapes.ipynb Cell 26\u001b[0m in \u001b[0;36m<cell line: 12>\u001b[1;34m()\u001b[0m\n\u001b[0;32m     <a href='vscode-notebook-cell:/c%3A/Users/parth/Downloads/Recognizing_shapes.ipynb#X34sZmlsZQ%3D%3D?line=10'>11</a>\u001b[0m i_circles\u001b[39m=\u001b[39mi\u001b[39m.\u001b[39mcopy()\n\u001b[0;32m     <a href='vscode-notebook-cell:/c%3A/Users/parth/Downloads/Recognizing_shapes.ipynb#X34sZmlsZQ%3D%3D?line=11'>12</a>\u001b[0m \u001b[39mfor\u001b[39;00m x,y,r \u001b[39min\u001b[39;00m circles[\u001b[39m0\u001b[39m]:\n\u001b[1;32m---> <a href='vscode-notebook-cell:/c%3A/Users/parth/Downloads/Recognizing_shapes.ipynb#X34sZmlsZQ%3D%3D?line=12'>13</a>\u001b[0m     cv2\u001b[39m.\u001b[39;49mcircle(\n\u001b[0;32m     <a href='vscode-notebook-cell:/c%3A/Users/parth/Downloads/Recognizing_shapes.ipynb#X34sZmlsZQ%3D%3D?line=13'>14</a>\u001b[0m         i_circles,\n\u001b[0;32m     <a href='vscode-notebook-cell:/c%3A/Users/parth/Downloads/Recognizing_shapes.ipynb#X34sZmlsZQ%3D%3D?line=14'>15</a>\u001b[0m         (x,y),\n\u001b[0;32m     <a href='vscode-notebook-cell:/c%3A/Users/parth/Downloads/Recognizing_shapes.ipynb#X34sZmlsZQ%3D%3D?line=15'>16</a>\u001b[0m         \u001b[39mint\u001b[39;49m(r),\n\u001b[0;32m     <a href='vscode-notebook-cell:/c%3A/Users/parth/Downloads/Recognizing_shapes.ipynb#X34sZmlsZQ%3D%3D?line=16'>17</a>\u001b[0m         (\u001b[39m0\u001b[39;49m,\u001b[39m0\u001b[39;49m,\u001b[39m255\u001b[39;49m),\n\u001b[0;32m     <a href='vscode-notebook-cell:/c%3A/Users/parth/Downloads/Recognizing_shapes.ipynb#X34sZmlsZQ%3D%3D?line=17'>18</a>\u001b[0m         thickness\u001b[39m=\u001b[39;49m\u001b[39m3\u001b[39;49m\n\u001b[0;32m     <a href='vscode-notebook-cell:/c%3A/Users/parth/Downloads/Recognizing_shapes.ipynb#X34sZmlsZQ%3D%3D?line=18'>19</a>\u001b[0m     )\n\u001b[0;32m     <a href='vscode-notebook-cell:/c%3A/Users/parth/Downloads/Recognizing_shapes.ipynb#X34sZmlsZQ%3D%3D?line=19'>20</a>\u001b[0m view_image(i_circles)\n",
      "\u001b[1;31merror\u001b[0m: OpenCV(4.7.0) :-1: error: (-5:Bad argument) in function 'circle'\n> Overload resolution failed:\n>  - Can't parse 'center'. Sequence item with index 0 has a wrong type\n>  - Can't parse 'center'. Sequence item with index 0 has a wrong type\n"
     ]
    }
   ],
   "source": [
    "circles=cv2.HoughCircles(\n",
    "    i_gray,\n",
    "    method=cv2.HOUGH_GRADIENT,\n",
    "    dp=2,\n",
    "    minDist=35,\n",
    "    param1=150,\n",
    "    param2=40,\n",
    "    minRadius=15,\n",
    "    maxRadius=25)\n",
    "\n",
    "i_circles=i.copy()\n",
    "for x,y,r in circles[0]:\n",
    "    cv2.circle(\n",
    "        i_circles,\n",
    "        (x,y),\n",
    "        int(r),\n",
    "        (0,0,255),\n",
    "        thickness=3\n",
    "    )\n",
    "view_image(i_circles)"
   ]
  },
  {
   "cell_type": "markdown",
   "metadata": {},
   "source": [
    "Blur the image first"
   ]
  },
  {
   "cell_type": "code",
   "execution_count": 36,
   "metadata": {},
   "outputs": [],
   "source": [
    "i_blurred=cv2.GaussianBlur(\n",
    "    i_gray,\n",
    "    ksize=(21,21),\n",
    "    sigmaX=0,)\n",
    "view_image(i_blurred)"
   ]
  },
  {
   "cell_type": "markdown",
   "metadata": {},
   "source": [
    "Circle detection on blurred image"
   ]
  },
  {
   "cell_type": "code",
   "execution_count": 39,
   "metadata": {},
   "outputs": [
    {
     "ename": "error",
     "evalue": "OpenCV(4.7.0) :-1: error: (-5:Bad argument) in function 'circle'\n> Overload resolution failed:\n>  - Can't parse 'center'. Sequence item with index 0 has a wrong type\n>  - Can't parse 'center'. Sequence item with index 0 has a wrong type\n",
     "output_type": "error",
     "traceback": [
      "\u001b[1;31m---------------------------------------------------------------------------\u001b[0m",
      "\u001b[1;31merror\u001b[0m                                     Traceback (most recent call last)",
      "\u001b[1;32mc:\\Users\\parth\\Downloads\\Recognizing_shapes.ipynb Cell 30\u001b[0m in \u001b[0;36m<cell line: 13>\u001b[1;34m()\u001b[0m\n\u001b[0;32m     <a href='vscode-notebook-cell:/c%3A/Users/parth/Downloads/Recognizing_shapes.ipynb#X41sZmlsZQ%3D%3D?line=10'>11</a>\u001b[0m i_circles\u001b[39m=\u001b[39mi\u001b[39m.\u001b[39mcopy()\n\u001b[0;32m     <a href='vscode-notebook-cell:/c%3A/Users/parth/Downloads/Recognizing_shapes.ipynb#X41sZmlsZQ%3D%3D?line=12'>13</a>\u001b[0m \u001b[39mfor\u001b[39;00m x,y,r \u001b[39min\u001b[39;00m circles[\u001b[39m0\u001b[39m]:\n\u001b[1;32m---> <a href='vscode-notebook-cell:/c%3A/Users/parth/Downloads/Recognizing_shapes.ipynb#X41sZmlsZQ%3D%3D?line=13'>14</a>\u001b[0m     cv2\u001b[39m.\u001b[39;49mcircle(\n\u001b[0;32m     <a href='vscode-notebook-cell:/c%3A/Users/parth/Downloads/Recognizing_shapes.ipynb#X41sZmlsZQ%3D%3D?line=14'>15</a>\u001b[0m     i_circles,\n\u001b[0;32m     <a href='vscode-notebook-cell:/c%3A/Users/parth/Downloads/Recognizing_shapes.ipynb#X41sZmlsZQ%3D%3D?line=15'>16</a>\u001b[0m     (x,y),\n\u001b[0;32m     <a href='vscode-notebook-cell:/c%3A/Users/parth/Downloads/Recognizing_shapes.ipynb#X41sZmlsZQ%3D%3D?line=16'>17</a>\u001b[0m     \u001b[39mint\u001b[39;49m(r),\n\u001b[0;32m     <a href='vscode-notebook-cell:/c%3A/Users/parth/Downloads/Recognizing_shapes.ipynb#X41sZmlsZQ%3D%3D?line=17'>18</a>\u001b[0m     (\u001b[39m0\u001b[39;49m,\u001b[39m0\u001b[39;49m,\u001b[39m255\u001b[39;49m),\n\u001b[0;32m     <a href='vscode-notebook-cell:/c%3A/Users/parth/Downloads/Recognizing_shapes.ipynb#X41sZmlsZQ%3D%3D?line=18'>19</a>\u001b[0m     thickness\u001b[39m=\u001b[39;49m\u001b[39m3\u001b[39;49m)\n\u001b[0;32m     <a href='vscode-notebook-cell:/c%3A/Users/parth/Downloads/Recognizing_shapes.ipynb#X41sZmlsZQ%3D%3D?line=19'>20</a>\u001b[0m view_image(i_circles)\n",
      "\u001b[1;31merror\u001b[0m: OpenCV(4.7.0) :-1: error: (-5:Bad argument) in function 'circle'\n> Overload resolution failed:\n>  - Can't parse 'center'. Sequence item with index 0 has a wrong type\n>  - Can't parse 'center'. Sequence item with index 0 has a wrong type\n"
     ]
    }
   ],
   "source": [
    "circles=cv2.HoughCircles(\n",
    "    i_blurred,\n",
    "    method=cv2.HOUGH_GRADIENT,\n",
    "    dp=2,\n",
    "    minDist=35,\n",
    "    param1=150,\n",
    "    param2=40,\n",
    "    minRadius=15,\n",
    "    maxRadius=25)\n",
    "\n",
    "i_circles=i.copy()\n",
    "\n",
    "for x,y,r in circles[0]:\n",
    "    cv2.circle(\n",
    "    i_circles,\n",
    "    (x,y),\n",
    "    int(r),\n",
    "    (0,0,255),\n",
    "    thickness=3)\n",
    "view_image(i_circles)"
   ]
  }
 ],
 "metadata": {
  "kernelspec": {
   "display_name": "Python 3",
   "language": "python",
   "name": "python3"
  },
  "language_info": {
   "codemirror_mode": {
    "name": "ipython",
    "version": 3
   },
   "file_extension": ".py",
   "mimetype": "text/x-python",
   "name": "python",
   "nbconvert_exporter": "python",
   "pygments_lexer": "ipython3",
   "version": "3.10.5"
  }
 },
 "nbformat": 4,
 "nbformat_minor": 4
}
